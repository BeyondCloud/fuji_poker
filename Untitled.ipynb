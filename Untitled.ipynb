{
 "cells": [
  {
   "cell_type": "code",
   "execution_count": 43,
   "metadata": {},
   "outputs": [
    {
     "name": "stdout",
     "output_type": "stream",
     "text": [
      "[5 2 6 1]\n",
      "[3]\n",
      "[4]\n"
     ]
    }
   ],
   "source": [
    "import numpy as np\n",
    "class Player:\n",
    "    def __init__(self, name):\n",
    "        self.name = name\n",
    "        self.chip = 10\n",
    "        self.cards = []\n",
    "        self.bet = 0\n",
    "    def request_blind(self,val):\n",
    "        if self.chip<=val:\n",
    "            tmp = self.chip\n",
    "            self.chip = 0\n",
    "            return tmp\n",
    "        else\n",
    "            self.chip -=val\n",
    "            return val\n",
    "            \n",
    "            \n",
    "    def act(self,legal_acts):\n",
    "    \n",
    "    \n",
    "class Game:\n",
    "    def __init__(self,players):\n",
    "        self.deck = []\n",
    "        self.player_lst = players\n",
    "        self.sb = 1\n",
    "        self.bb = 2\n",
    "        \n",
    "    def remove_nochip_plys(self):\n",
    "        for i in range(len(self.player_lst)):\n",
    "            if self.player_lst[i].chip==0:\n",
    "                print('remove 0 chip player:',self.player_lst[i].name)\n",
    "                del self.player_lst[i]\n",
    "    def new_game(self):\n",
    "        remove_nochip_plys()\n",
    "        if len(self.player_lst)<2:\n",
    "            print('player count < 2')\n",
    "            return\n",
    "        \n",
    "        #make sure no player has any card or bet\n",
    "        for i in range(len(self.player_lst)):\n",
    "            self.player_lst[i].cards = []\n",
    "            self.player_lst[i].bet = 0\n",
    "        \n",
    "        #shuffle and deal the first card\n",
    "        self.deck = a = np.arange(1,7)\n",
    "        np.random.shuffle(self.deck)\n",
    "        self.deal_cards()\n",
    "        \n",
    "        #update position   \n",
    "        ply_tmp = self.player_lst[0]\n",
    "        self.player_lst[:-1] = self.player_lst[1:]\n",
    "        self.player_lst[-1] = ply_tmp\n",
    "        \n",
    "        #reset pot\n",
    "        self.pot = 0\n",
    "        #blind\n",
    "        self.pot += self.player_lst[0].request_blind(self.sb )\n",
    "        self.cur_bet = min(self.player_lst[1].chip,self.bb )\n",
    "        self.pot += self.player_lst[1].request_blind(self.bb )\n",
    "        \n",
    "        \n",
    "        self.player_sess(player_lst)\n",
    "    def deal_cards(self):\n",
    "        for i in range(len(self.player_lst)):\n",
    "            self.player_lst[i].cards.append(self.deck[-1])\n",
    "            self.deck = self.deck[:-1]\n",
    "    def get_act_set(self,ply):\n",
    "        \n",
    "    def player_sess(self,plys):\n",
    "        act = 0;\n",
    "        while True:\n",
    "            act_set = self.get_act_set(plys[act])\n",
    "            plys[0].act(act_set)\n",
    "            act = (act+1)%len(plys)\n",
    "            \n",
    "p1 = Player('O')\n",
    "p2 = Player('X')\n",
    "g = Game([p1,p2])\n",
    "g.new_game()\n",
    "\n",
    "print(g.deck)\n",
    "print(p1.cards)\n",
    "print(p2.cards)\n"
   ]
  },
  {
   "cell_type": "code",
   "execution_count": 90,
   "metadata": {},
   "outputs": [
    {
     "name": "stdout",
     "output_type": "stream",
     "text": [
      "0\n"
     ]
    }
   ],
   "source": [
    "class Ply:\n",
    "    def __init__(self,val):\n",
    "        self.val =val\n",
    "class Foo:\n",
    "    def __init__(self,plys):\n",
    "        self.plys = plys\n",
    "    def modify(self,ply):\n",
    "        ply.val = 0\n",
    "def asdf(ply):\n",
    "    ply.val = 0\n",
    "p1 = Ply(12)\n",
    "p2 = Ply(3)\n",
    "f = Foo([p1,p2])\n",
    "asdf(p1)\n",
    "print(p1.val)"
   ]
  },
  {
   "cell_type": "code",
   "execution_count": 61,
   "metadata": {},
   "outputs": [
    {
     "name": "stdout",
     "output_type": "stream",
     "text": [
      "6\n",
      "1533699335560\n",
      "1533699335560\n"
     ]
    }
   ],
   "source": [
    "import copy\n",
    "a = [1, 2, 3]\n",
    "b=a[:]\n",
    "a[0] = 6\n",
    "print(b[0])\n",
    "print(id(a))\n",
    "print(id(b))\n"
   ]
  }
 ],
 "metadata": {
  "kernelspec": {
   "display_name": "Python 3",
   "language": "python",
   "name": "python3"
  },
  "language_info": {
   "codemirror_mode": {
    "name": "ipython",
    "version": 3
   },
   "file_extension": ".py",
   "mimetype": "text/x-python",
   "name": "python",
   "nbconvert_exporter": "python",
   "pygments_lexer": "ipython3",
   "version": "3.6.1"
  }
 },
 "nbformat": 4,
 "nbformat_minor": 2
}
