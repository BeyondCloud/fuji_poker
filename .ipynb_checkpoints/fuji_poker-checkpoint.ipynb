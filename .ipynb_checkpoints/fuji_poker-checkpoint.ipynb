{
 "cells": [
  {
   "cell_type": "code",
   "execution_count": 43,
   "metadata": {},
   "outputs": [
    {
     "name": "stdout",
     "output_type": "stream",
     "text": [
      "[5 2 6 1]\n",
      "[3]\n",
      "[4]\n"
     ]
    }
   ],
   "source": [
    "import numpy as np\n",
    "import copy as cp\n",
    "class Player:\n",
    "    def __init__(self, name):\n",
    "        self.name = name\n",
    "        self.chip = 10\n",
    "        self.cards = []\n",
    "        self.bet = 0\n",
    "        self.isFold = False\n",
    "    def request_blind(self,val):\n",
    "        if self.chip<=val:\n",
    "            tmp = self.chip\n",
    "            self.chip = 0\n",
    "            self.bet = tmp\n",
    "            return tmp\n",
    "        else\n",
    "            self.chip -=val\n",
    "            self.bet = val\n",
    "            return val\n",
    "            \n",
    "    #return act type and delta_chip\n",
    "    def act(self,act_set,bet_to):\n",
    "        print('available act:',act_set)\n",
    "        my_act = []\n",
    "        delta_chip = 0\n",
    "        while True:\n",
    "            my_act = input()\n",
    "            if my_act in act_set\n",
    "                break\n",
    "            print('illegal input,type again:')\n",
    "        if my_act == 'f':\n",
    "            self.isFold = True  \n",
    "        else if my_act == 'c':\n",
    "            delta_chip = bet_to - self.bet\n",
    "            self.chip-=delta_chip\n",
    "            self.bet = bet_to\n",
    "        else if my_act == 'r':\n",
    "            delta_chip = bet_to - self.bet+1\n",
    "            self.chip-=(delta_chip)\n",
    "            self.bet =bet_to\n",
    "        my_act.append(delta_chip)\n",
    "        return my_act\n",
    "            \n",
    "    \n",
    "class FUJIpoker:\n",
    "    def __init__(self):\n",
    "        self.deck = []\n",
    "        self.sb = 1\n",
    "        self.bb = 2\n",
    "        self.max_r = 2\n",
    "        \n",
    "        self.reset_misc_params()\n",
    "    def remove_nochip_plys(self,plys):\n",
    "        for i in range(len(plys)):\n",
    "            if plys[i].chip==0:\n",
    "                print('remove 0 chip player:',plys[i].name)\n",
    "                del plys[i]\n",
    "    def reset_misc_params(self)\n",
    "        self.bet_to  = 0 \n",
    "        self.raise_cnt = 0\n",
    "        self.act_set = []\n",
    "    def new_game(self,plys):\n",
    "        remove_nochip_plys(plys)\n",
    "        if len(plys)<2:\n",
    "            print('player count < 2')\n",
    "            return\n",
    "        \n",
    "        self.reset_misc_params()\n",
    "        #make sure no player has any card or bet\n",
    "        for i in range(len(plys)):\n",
    "            plys[i].cards = []\n",
    "            plys[i].bet = 0\n",
    "        \n",
    "        #shuffle and deal the first card\n",
    "        self.deck = np.arange(1,7)\n",
    "        np.random.shuffle(self.deck)\n",
    "        self.deal_each_1_card(plys)\n",
    "        \n",
    "        #update position   \n",
    "        ply_tmp = plys[0]\n",
    "        plys[:-1] = plys[1:]\n",
    "        plys[-1] = ply_tmp\n",
    "        \n",
    "        #reset pot\n",
    "        self.pot = 0\n",
    "        \n",
    "        #blind\n",
    "        self.pot += plys[0].request_blind(self.sb )\n",
    "        self.bet_to = min(plys[1].chip,self.bb )\n",
    "        self.pot += plys[1].request_blind(self.bb )\n",
    "        \n",
    "        #round 1\n",
    "        remain_plys = self.player_sess(player_lst)\n",
    "        if remain_plys>1:\n",
    "            self.deal_each_1_card(plys)\n",
    "        \n",
    "    def deal_each_1_card(self,plys):\n",
    "        for i in range(len(plys)):\n",
    "            plys[i].cards.append(self.deck[-1])\n",
    "            self.deck = self.deck[:-1]\n",
    "    def get_act_set(self,ply):\n",
    "        act_set = []\n",
    "        if ply.bet >= bet_to:\n",
    "            #pass\n",
    "            act_set.append('p') \n",
    "        else:\n",
    "            act_set.append('f')\n",
    "            if bet_to - ply.bet <=ply.chip:\n",
    "                act_set.append('c')\n",
    "                if (bet_to - ply.bet) != ply.chip and raise_cnt<self.max_r:\n",
    "                    act_set.append('r')\n",
    "        return act_set\n",
    "    \n",
    "    #return remain players count\n",
    "    def player_sess(self,plys):\n",
    "        bet_until = act_ply\n",
    "        ply_not_fold = np.arange(len(plys))\n",
    "        not_fold_i = 0\n",
    "        while True:\n",
    "            if len(plys)<2:\n",
    "                break;\n",
    "            act_ply =ply_not_fold[not_fold_i]\n",
    "            if !plys[act_ply].isFold:      \n",
    "                act_set = self.get_act_set(plys[act_ply])\n",
    "                act = plys[act_ply].act(act_set,self.bet_to)\n",
    "            if act == 'f':\n",
    "                plys[act_ply].isFold = True\n",
    "            else if act == 'r':\n",
    "                bet_until = act_ply    \n",
    "            act_ply = (act_ply+1)%len(plys)\n",
    "            if act_ply == bet_until:\n",
    "                break\n",
    "        return len(plys)\n",
    "            \n",
    "p1 = Player('O')\n",
    "p2 = Player('X')\n",
    "g = FUJIpoker()\n",
    "g.new_game([p1,p2])\n",
    "\n",
    "print(g.deck)\n",
    "print(p1.cards)\n",
    "print(p2.cards)\n"
   ]
  },
  {
   "cell_type": "code",
   "execution_count": 23,
   "metadata": {},
   "outputs": [
    {
     "name": "stdout",
     "output_type": "stream",
     "text": [
      "[0 1 2 3 4 5]\n"
     ]
    }
   ],
   "source": [
    "import numpy as np\n",
    "a = np.arange(6)\n",
    "print( a)"
   ]
  },
  {
   "cell_type": "code",
   "execution_count": 13,
   "metadata": {},
   "outputs": [
    {
     "name": "stdout",
     "output_type": "stream",
     "text": [
      "[1, 2, 3]\n",
      "1\n"
     ]
    }
   ],
   "source": [
    "import copy\n",
    "class Ply:\n",
    "    def __init__(self,val):\n",
    "        self.val =val\n",
    "class Foo:\n",
    "    def __init__(self,plys):\n",
    "        self.plys = plys\n",
    "    def modify(self,ply):\n",
    "        ply.val = 0\n",
    "def asdf(ply):\n",
    "    ply.val = 0\n",
    "def af(ply):\n",
    "    ply = 0\n",
    "p = [1,2,3];\n",
    "af(p[:])\n",
    "print(p)\n",
    "p1 = Ply(1)\n",
    "asdf(copy.copy(p1))\n",
    "print(p1.val)"
   ]
  },
  {
   "cell_type": "code",
   "execution_count": 18,
   "metadata": {},
   "outputs": [
    {
     "name": "stdout",
     "output_type": "stream",
     "text": [
      "before, outer_list = ['one', 'two', 'three']\n",
      "got ['one', 'two', 'three']\n",
      "changed to 0\n",
      "after, outer_list = ['one', 'two', 'three', 'four']\n"
     ]
    }
   ],
   "source": [
    "def try_to_change_list_contents(the_list):\n",
    "    print('got', the_list)\n",
    "    the_list.append('four')\n",
    "    the_list = 0\n",
    "    print('changed to', the_list)\n",
    "\n",
    "outer_list = ['one', 'two', 'three']\n",
    "\n",
    "print('before, outer_list =', outer_list)\n",
    "try_to_change_list_contents(outer_list)\n",
    "print('after, outer_list =', outer_list)"
   ]
  },
  {
   "cell_type": "code",
   "execution_count": 24,
   "metadata": {},
   "outputs": [
    {
     "ename": "SyntaxError",
     "evalue": "invalid syntax (<ipython-input-24-b1cc0f1c8d6a>, line 3)",
     "output_type": "error",
     "traceback": [
      "\u001b[1;36m  File \u001b[1;32m\"<ipython-input-24-b1cc0f1c8d6a>\"\u001b[1;36m, line \u001b[1;32m3\u001b[0m\n\u001b[1;33m    choices = {'a': 1, 'b': c = 12,}\u001b[0m\n\u001b[1;37m                              ^\u001b[0m\n\u001b[1;31mSyntaxError\u001b[0m\u001b[1;31m:\u001b[0m invalid syntax\n"
     ]
    }
   ],
   "source": [
    "# switch example\n",
    "key = 'c'\n",
    "choices = {'a': 1, 'b': c = 12,}\n",
    "result = choices.get(key, 'default')\n",
    "print(result)"
   ]
  },
  {
   "cell_type": "code",
   "execution_count": null,
   "metadata": {
    "collapsed": true
   },
   "outputs": [],
   "source": [
    "act_set = ['a','b']\n",
    "while True:\n",
    "    my_act = input()\n",
    "    if my_act in act_set:\n",
    "        break\n",
    "    print('illegal input,type again:')"
   ]
  }
 ],
 "metadata": {
  "kernelspec": {
   "display_name": "Python 3",
   "language": "python",
   "name": "python3"
  },
  "language_info": {
   "codemirror_mode": {
    "name": "ipython",
    "version": 3
   },
   "file_extension": ".py",
   "mimetype": "text/x-python",
   "name": "python",
   "nbconvert_exporter": "python",
   "pygments_lexer": "ipython3",
   "version": "3.6.1"
  }
 },
 "nbformat": 4,
 "nbformat_minor": 2
}
