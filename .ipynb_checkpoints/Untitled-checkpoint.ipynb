{
 "cells": [
  {
   "cell_type": "code",
   "execution_count": 43,
   "metadata": {},
   "outputs": [
    {
     "name": "stdout",
     "output_type": "stream",
     "text": [
      "[5 2 6 1]\n",
      "[3]\n",
      "[4]\n"
     ]
    }
   ],
   "source": [
    "import numpy as np\n",
    "class Player:\n",
    "    def __init__(self, name):\n",
    "        self.name = name\n",
    "        self.chip = 10\n",
    "        self.cards = []\n",
    "        self.bet = 0\n",
    "    def request_blind(self,val):\n",
    "        if self.chip<=val:\n",
    "            tmp = self.chip\n",
    "            self.chip = 0\n",
    "            return tmp\n",
    "        else\n",
    "            self.chip -=val\n",
    "            return val\n",
    "            \n",
    "            \n",
    "    def act(self,legal_acts):\n",
    "    \n",
    "    \n",
    "class Game:\n",
    "    def __init__(self,players):\n",
    "        self.deck = []\n",
    "        self.player_lst = players\n",
    "    def remove_nochip_plys(self):\n",
    "        for i in range(len(self.player_lst)):\n",
    "            if self.player_lst[i].chip==0:\n",
    "                print('remove 0 chip player:',self.player_lst[i].name)\n",
    "                del self.player_lst[i]\n",
    "    def new_game(self):\n",
    "        remove_nochip_plys()\n",
    "        if len(self.player_lst)<2:\n",
    "            print('player count < 2')\n",
    "            return\n",
    "        \n",
    "        #make sure no player has any card or bet\n",
    "        for i in range(len(self.player_lst)):\n",
    "            self.player_lst[i].cards = []\n",
    "            self.player_lst[i].bet = 0\n",
    "        #shuffle and deal the first card\n",
    "        self.deck = a = np.arange(1,7)\n",
    "        np.random.shuffle(self.deck)\n",
    "        self.deal_cards()\n",
    "        \n",
    "        #update position   \n",
    "        ply_tmp = self.player_lst[0]\n",
    "        self.player_lst[:-1] = self.player_lst[1:]\n",
    "        self.player_lst[-1] = ply_tmp\n",
    "        \n",
    "        #reset pot\n",
    "        if self.pot != 0 \n",
    "            print('error,pot still have chip but it shouldnt')\n",
    "            self.pot = 0\n",
    "            \n",
    "        #blind\n",
    "        self.pot += self.player_lst[0].request_blind(1)\n",
    "        self.pot += self.player_lst[1].request_blind(2)\n",
    "        \n",
    "        \n",
    "        self.player_sess(player_lst)\n",
    "    def deal_cards(self):\n",
    "        for i in range(len(self.player_lst)):\n",
    "            self.player_lst[i].cards.append(self.deck[-1])\n",
    "            self.deck = self.deck[:-1]\n",
    "    def get_act_set(self,ply):\n",
    "        \n",
    "    def player_sess(self,plys):\n",
    "        act = 0;\n",
    "        while True:\n",
    "            act_set = self.get_act_set(plys[act])\n",
    "            plys[0].act(act_set)\n",
    "            act = act\n",
    "            \n",
    "p1 = Player('O')\n",
    "p2 = Player('X')\n",
    "g = Game([p1,p2])\n",
    "g.new_game()\n",
    "\n",
    "print(g.deck)\n",
    "print(p1.cards)\n",
    "print(p2.cards)\n"
   ]
  },
  {
   "cell_type": "code",
   "execution_count": 72,
   "metadata": {},
   "outputs": [
    {
     "ename": "AttributeError",
     "evalue": "'list' object has no attribute 'val'",
     "output_type": "error",
     "traceback": [
      "\u001b[1;31m--------------------------------------------------\u001b[0m",
      "\u001b[1;31mAttributeError\u001b[0m   Traceback (most recent call last)",
      "\u001b[1;32m<ipython-input-72-d71bb6dbcc9f>\u001b[0m in \u001b[0;36m<module>\u001b[1;34m()\u001b[0m\n\u001b[0;32m      5\u001b[0m \u001b[0mt2\u001b[0m \u001b[1;33m=\u001b[0m \u001b[0mtest\u001b[0m\u001b[1;33m(\u001b[0m\u001b[1;36m3\u001b[0m\u001b[1;33m)\u001b[0m\u001b[1;33m\u001b[0m\u001b[0m\n\u001b[0;32m      6\u001b[0m \u001b[0mt\u001b[0m \u001b[1;33m=\u001b[0m \u001b[1;33m[\u001b[0m\u001b[0mt1\u001b[0m\u001b[1;33m,\u001b[0m\u001b[0mt2\u001b[0m\u001b[1;33m]\u001b[0m\u001b[1;33m\u001b[0m\u001b[0m\n\u001b[1;32m----> 7\u001b[1;33m \u001b[0mprint\u001b[0m\u001b[1;33m(\u001b[0m\u001b[0mt\u001b[0m\u001b[1;33m[\u001b[0m\u001b[1;33m:\u001b[0m\u001b[1;33m]\u001b[0m\u001b[1;33m.\u001b[0m\u001b[0mval\u001b[0m\u001b[1;33m)\u001b[0m\u001b[1;33m\u001b[0m\u001b[0m\n\u001b[0m",
      "\u001b[1;31mAttributeError\u001b[0m: 'list' object has no attribute 'val'"
     ]
    }
   ],
   "source": [
    "class test:\n",
    "    def __init__(self,val):\n",
    "        self.val =val\n",
    "t1 = test(12)\n",
    "t2 = test(3)\n",
    "t = [t1,t2]\n",
    "print(t[:].val)"
   ]
  },
  {
   "cell_type": "code",
   "execution_count": 61,
   "metadata": {},
   "outputs": [
    {
     "name": "stdout",
     "output_type": "stream",
     "text": [
      "6\n",
      "1533699335560\n",
      "1533699335560\n"
     ]
    }
   ],
   "source": [
    "import copy\n",
    "a = [1, 2, 3]\n",
    "b=a[:]\n",
    "a[0] = 6\n",
    "print(b[0])\n",
    "print(id(a))\n",
    "print(id(b))\n"
   ]
  }
 ],
 "metadata": {
  "kernelspec": {
   "display_name": "Python 3",
   "language": "python",
   "name": "python3"
  },
  "language_info": {
   "codemirror_mode": {
    "name": "ipython",
    "version": 3
   },
   "file_extension": ".py",
   "mimetype": "text/x-python",
   "name": "python",
   "nbconvert_exporter": "python",
   "pygments_lexer": "ipython3",
   "version": "3.6.1"
  }
 },
 "nbformat": 4,
 "nbformat_minor": 2
}
